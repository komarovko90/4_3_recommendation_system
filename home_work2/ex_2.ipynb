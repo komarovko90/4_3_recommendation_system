{
 "cells": [
  {
   "cell_type": "code",
   "execution_count": 1,
   "metadata": {
    "colab": {},
    "colab_type": "code",
    "id": "rgIzW-DSC8Yi"
   },
   "outputs": [],
   "source": [
    "import pandas as pd\n",
    "import numpy as np\n",
    "import matplotlib.pyplot as plt\n",
    "import math\n",
    "%matplotlib inline\n",
    "\n",
    "# Для работы с матрицами\n",
    "from scipy.sparse import csr_matrix, coo_matrix\n",
    "\n",
    "# Детерминированные алгоритмы\n",
    "from implicit.nearest_neighbours import ItemItemRecommender, CosineRecommender, TFIDFRecommender, BM25Recommender\n",
    "\n",
    "# Метрики\n",
    "from implicit.evaluation import train_test_split\n",
    "# from implicit.evaluation import precision_at_k, mean_average_precision_at_k, AUC_at_k, ndcg_at_k"
   ]
  },
  {
   "cell_type": "code",
   "execution_count": 2,
   "metadata": {
    "colab": {},
    "colab_type": "code",
    "id": "9qFkcgyrC8Yt",
    "outputId": "24a33bf1-942a-4b18-c54a-a7500c8f8712"
   },
   "outputs": [
    {
     "data": {
      "text/html": [
       "<div>\n",
       "<style scoped>\n",
       "    .dataframe tbody tr th:only-of-type {\n",
       "        vertical-align: middle;\n",
       "    }\n",
       "\n",
       "    .dataframe tbody tr th {\n",
       "        vertical-align: top;\n",
       "    }\n",
       "\n",
       "    .dataframe thead th {\n",
       "        text-align: right;\n",
       "    }\n",
       "</style>\n",
       "<table border=\"1\" class=\"dataframe\">\n",
       "  <thead>\n",
       "    <tr style=\"text-align: right;\">\n",
       "      <th></th>\n",
       "      <th>user_id</th>\n",
       "      <th>basket_id</th>\n",
       "      <th>day</th>\n",
       "      <th>item_id</th>\n",
       "      <th>quantity</th>\n",
       "      <th>sales_value</th>\n",
       "      <th>store_id</th>\n",
       "      <th>retail_disc</th>\n",
       "      <th>trans_time</th>\n",
       "      <th>week_no</th>\n",
       "      <th>coupon_disc</th>\n",
       "      <th>coupon_match_disc</th>\n",
       "    </tr>\n",
       "  </thead>\n",
       "  <tbody>\n",
       "    <tr>\n",
       "      <th>0</th>\n",
       "      <td>2375</td>\n",
       "      <td>26984851472</td>\n",
       "      <td>1</td>\n",
       "      <td>1004906</td>\n",
       "      <td>1</td>\n",
       "      <td>1.39</td>\n",
       "      <td>364</td>\n",
       "      <td>-0.6</td>\n",
       "      <td>1631</td>\n",
       "      <td>1</td>\n",
       "      <td>0.0</td>\n",
       "      <td>0.0</td>\n",
       "    </tr>\n",
       "    <tr>\n",
       "      <th>1</th>\n",
       "      <td>2375</td>\n",
       "      <td>26984851472</td>\n",
       "      <td>1</td>\n",
       "      <td>1033142</td>\n",
       "      <td>1</td>\n",
       "      <td>0.82</td>\n",
       "      <td>364</td>\n",
       "      <td>0.0</td>\n",
       "      <td>1631</td>\n",
       "      <td>1</td>\n",
       "      <td>0.0</td>\n",
       "      <td>0.0</td>\n",
       "    </tr>\n",
       "  </tbody>\n",
       "</table>\n",
       "</div>"
      ],
      "text/plain": [
       "   user_id    basket_id  day  item_id  quantity  sales_value  store_id  \\\n",
       "0     2375  26984851472    1  1004906         1         1.39       364   \n",
       "1     2375  26984851472    1  1033142         1         0.82       364   \n",
       "\n",
       "   retail_disc  trans_time  week_no  coupon_disc  coupon_match_disc  \n",
       "0         -0.6        1631        1          0.0                0.0  \n",
       "1          0.0        1631        1          0.0                0.0  "
      ]
     },
     "execution_count": 2,
     "metadata": {},
     "output_type": "execute_result"
    }
   ],
   "source": [
    "data = pd.read_csv('retail_train.csv')\n",
    "data.head(2)"
   ]
  },
  {
   "cell_type": "code",
   "execution_count": null,
   "metadata": {
    "colab": {},
    "colab_type": "code",
    "id": "epcBZlgJC8Y0"
   },
   "outputs": [],
   "source": [
    "test_size_weeks = 3\n",
    "\n",
    "data_train = data[data['week_no'] < data['week_no'].max() - test_size_weeks]\n",
    "data_test = data[data['week_no'] >= data['week_no'].max() - test_size_weeks]"
   ]
  },
  {
   "cell_type": "markdown",
   "metadata": {
    "colab_type": "text",
    "id": "zlUUzLFeC8Y4"
   },
   "source": [
    "### Задание 1. Weighted Random Recommendation\n",
    "\n",
    "Напишите код для случайных рекоммендаций, в которых вероятность рекомендовать товар прямо пропорциональна логарифму продаж\n",
    "- Можно сэмплировать товары случайно, но пропорционально какому-либо весу\n",
    "- Например, прямопропорционально популярности. Вес = log(sales_sum товара)"
   ]
  },
  {
   "cell_type": "code",
   "execution_count": 49,
   "metadata": {},
   "outputs": [
    {
     "data": {
      "text/html": [
       "<div>\n",
       "<style scoped>\n",
       "    .dataframe tbody tr th:only-of-type {\n",
       "        vertical-align: middle;\n",
       "    }\n",
       "\n",
       "    .dataframe tbody tr th {\n",
       "        vertical-align: top;\n",
       "    }\n",
       "\n",
       "    .dataframe thead th {\n",
       "        text-align: right;\n",
       "    }\n",
       "</style>\n",
       "<table border=\"1\" class=\"dataframe\">\n",
       "  <thead>\n",
       "    <tr style=\"text-align: right;\">\n",
       "      <th></th>\n",
       "      <th>user_id</th>\n",
       "      <th>actual</th>\n",
       "    </tr>\n",
       "  </thead>\n",
       "  <tbody>\n",
       "    <tr>\n",
       "      <th>0</th>\n",
       "      <td>1</td>\n",
       "      <td>[825123, 831447, 840361, 845307, 852014, 85498...</td>\n",
       "    </tr>\n",
       "    <tr>\n",
       "      <th>1</th>\n",
       "      <td>2</td>\n",
       "      <td>[854852, 930118, 1077555, 1098066, 5567388, 55...</td>\n",
       "    </tr>\n",
       "  </tbody>\n",
       "</table>\n",
       "</div>"
      ],
      "text/plain": [
       "   user_id                                             actual\n",
       "0        1  [825123, 831447, 840361, 845307, 852014, 85498...\n",
       "1        2  [854852, 930118, 1077555, 1098066, 5567388, 55..."
      ]
     },
     "execution_count": 49,
     "metadata": {},
     "output_type": "execute_result"
    }
   ],
   "source": [
    "result = data.groupby('user_id')['item_id'].unique().reset_index()\n",
    "result.columns=['user_id', 'actual']\n",
    "result.head(2)"
   ]
  },
  {
   "cell_type": "code",
   "execution_count": 57,
   "metadata": {
    "colab": {},
    "colab_type": "code",
    "id": "brMuCHolC8Y4"
   },
   "outputs": [],
   "source": [
    "def weighted_random_recommendation(item_weight, n=5):\n",
    "    \n",
    "    recs = np.random.choice(item_weight['item_id'].to_list(), size=n, replace=False, p=item_weight['norm_weight'].to_list())\n",
    "\n",
    "    return recs"
   ]
  },
  {
   "cell_type": "code",
   "execution_count": 56,
   "metadata": {},
   "outputs": [
    {
     "data": {
      "text/html": [
       "<div>\n",
       "<style scoped>\n",
       "    .dataframe tbody tr th:only-of-type {\n",
       "        vertical-align: middle;\n",
       "    }\n",
       "\n",
       "    .dataframe tbody tr th {\n",
       "        vertical-align: top;\n",
       "    }\n",
       "\n",
       "    .dataframe thead th {\n",
       "        text-align: right;\n",
       "    }\n",
       "</style>\n",
       "<table border=\"1\" class=\"dataframe\">\n",
       "  <thead>\n",
       "    <tr style=\"text-align: right;\">\n",
       "      <th></th>\n",
       "      <th>item_id</th>\n",
       "      <th>quantity</th>\n",
       "      <th>weight</th>\n",
       "      <th>norm_weight</th>\n",
       "    </tr>\n",
       "  </thead>\n",
       "  <tbody>\n",
       "    <tr>\n",
       "      <th>0</th>\n",
       "      <td>25671</td>\n",
       "      <td>6</td>\n",
       "      <td>0.778151</td>\n",
       "      <td>0.000012</td>\n",
       "    </tr>\n",
       "    <tr>\n",
       "      <th>1</th>\n",
       "      <td>26081</td>\n",
       "      <td>1</td>\n",
       "      <td>0.000000</td>\n",
       "      <td>0.000000</td>\n",
       "    </tr>\n",
       "    <tr>\n",
       "      <th>2</th>\n",
       "      <td>26093</td>\n",
       "      <td>1</td>\n",
       "      <td>0.000000</td>\n",
       "      <td>0.000000</td>\n",
       "    </tr>\n",
       "    <tr>\n",
       "      <th>3</th>\n",
       "      <td>26190</td>\n",
       "      <td>1</td>\n",
       "      <td>0.000000</td>\n",
       "      <td>0.000000</td>\n",
       "    </tr>\n",
       "    <tr>\n",
       "      <th>4</th>\n",
       "      <td>26355</td>\n",
       "      <td>2</td>\n",
       "      <td>0.301030</td>\n",
       "      <td>0.000005</td>\n",
       "    </tr>\n",
       "  </tbody>\n",
       "</table>\n",
       "</div>"
      ],
      "text/plain": [
       "   item_id  quantity    weight  norm_weight\n",
       "0    25671         6  0.778151     0.000012\n",
       "1    26081         1  0.000000     0.000000\n",
       "2    26093         1  0.000000     0.000000\n",
       "3    26190         1  0.000000     0.000000\n",
       "4    26355         2  0.301030     0.000005"
      ]
     },
     "execution_count": 56,
     "metadata": {},
     "output_type": "execute_result"
    }
   ],
   "source": [
    "top_sales = data.groupby('item_id')['quantity'].sum().reset_index()\n",
    "top_sales.loc[top_sales['quantity']==0, 'quantity']=1 # замена нулей\n",
    "top_sales['weight'] = np.log10(top_sales['quantity']) \n",
    "top_sales['norm_weight'] = top_sales['weight']/ top_sales['weight'].sum()\n",
    "top_sales.head()"
   ]
  },
  {
   "cell_type": "code",
   "execution_count": 58,
   "metadata": {
    "scrolled": true
   },
   "outputs": [
    {
     "name": "stdout",
     "output_type": "stream",
     "text": [
      "Wall time: 35.1 s\n"
     ]
    },
    {
     "data": {
      "text/html": [
       "<div>\n",
       "<style scoped>\n",
       "    .dataframe tbody tr th:only-of-type {\n",
       "        vertical-align: middle;\n",
       "    }\n",
       "\n",
       "    .dataframe tbody tr th {\n",
       "        vertical-align: top;\n",
       "    }\n",
       "\n",
       "    .dataframe thead th {\n",
       "        text-align: right;\n",
       "    }\n",
       "</style>\n",
       "<table border=\"1\" class=\"dataframe\">\n",
       "  <thead>\n",
       "    <tr style=\"text-align: right;\">\n",
       "      <th></th>\n",
       "      <th>user_id</th>\n",
       "      <th>actual</th>\n",
       "      <th>weighted_random</th>\n",
       "    </tr>\n",
       "  </thead>\n",
       "  <tbody>\n",
       "    <tr>\n",
       "      <th>0</th>\n",
       "      <td>1</td>\n",
       "      <td>[825123, 831447, 840361, 845307, 852014, 85498...</td>\n",
       "      <td>[8068373, 1076744, 1134606, 979022, 1134214]</td>\n",
       "    </tr>\n",
       "    <tr>\n",
       "      <th>1</th>\n",
       "      <td>2</td>\n",
       "      <td>[854852, 930118, 1077555, 1098066, 5567388, 55...</td>\n",
       "      <td>[872146, 998112, 881216, 1102295, 8090956]</td>\n",
       "    </tr>\n",
       "  </tbody>\n",
       "</table>\n",
       "</div>"
      ],
      "text/plain": [
       "   user_id                                             actual  \\\n",
       "0        1  [825123, 831447, 840361, 845307, 852014, 85498...   \n",
       "1        2  [854852, 930118, 1077555, 1098066, 5567388, 55...   \n",
       "\n",
       "                                weighted_random  \n",
       "0  [8068373, 1076744, 1134606, 979022, 1134214]  \n",
       "1    [872146, 998112, 881216, 1102295, 8090956]  "
      ]
     },
     "execution_count": 58,
     "metadata": {},
     "output_type": "execute_result"
    }
   ],
   "source": [
    "%%time\n",
    "\n",
    "result['weighted_random'] = result['user_id'].apply(lambda x: weighted_random_recommendation(top_sales, n=5))"
   ]
  },
  {
   "cell_type": "markdown",
   "metadata": {
    "colab_type": "text",
    "id": "hyNG6O-wC8Y_"
   },
   "source": [
    "### Задание 2. Расчет метрик\n",
    "Рассчитайте Precision@5 для каждого алгоритма с помощью функции из вебинара 1. Какой алгоритм показывает лучшее качество?"
   ]
  },
  {
   "cell_type": "code",
   "execution_count": 2,
   "metadata": {
    "colab": {},
    "colab_type": "code",
    "id": "36HtRgm8C8ZA",
    "outputId": "971ccba1-6f06-4ac8-fd2d-10ba527e0fe5",
    "scrolled": false
   },
   "outputs": [
    {
     "data": {
      "text/html": [
       "<div>\n",
       "<style scoped>\n",
       "    .dataframe tbody tr th:only-of-type {\n",
       "        vertical-align: middle;\n",
       "    }\n",
       "\n",
       "    .dataframe tbody tr th {\n",
       "        vertical-align: top;\n",
       "    }\n",
       "\n",
       "    .dataframe thead th {\n",
       "        text-align: right;\n",
       "    }\n",
       "</style>\n",
       "<table border=\"1\" class=\"dataframe\">\n",
       "  <thead>\n",
       "    <tr style=\"text-align: right;\">\n",
       "      <th></th>\n",
       "      <th>user_id</th>\n",
       "      <th>actual</th>\n",
       "      <th>random_recommendation</th>\n",
       "      <th>popular_recommendation</th>\n",
       "      <th>weighted_random</th>\n",
       "      <th>itemitem</th>\n",
       "      <th>cosine</th>\n",
       "      <th>tfidf</th>\n",
       "      <th>own_purchases</th>\n",
       "    </tr>\n",
       "  </thead>\n",
       "  <tbody>\n",
       "    <tr>\n",
       "      <th>0</th>\n",
       "      <td>1</td>\n",
       "      <td>[821867, 834484, 856942, 865456, 889248, 90795...</td>\n",
       "      <td>[820603, 1102628, 9827351, 10356075, 957233]</td>\n",
       "      <td>[6534178, 6533889, 1029743, 6534166, 1082185]</td>\n",
       "      <td>[6773108, 887633, 898448, 856432, 1030868]</td>\n",
       "      <td>[6666, 1082185, 981760, 1127831, 995242]</td>\n",
       "      <td>[1082185, 6666, 981760, 1127831, 1098066]</td>\n",
       "      <td>[1082185, 981760, 1127831, 6666, 1098066]</td>\n",
       "      <td>[1082185, 995242, 1029743, 840361, 904360]</td>\n",
       "    </tr>\n",
       "    <tr>\n",
       "      <th>1</th>\n",
       "      <td>3</td>\n",
       "      <td>[835476, 851057, 872021, 878302, 879948, 90963...</td>\n",
       "      <td>[6424447, 13115942, 15627461, 1096740, 6772768]</td>\n",
       "      <td>[6534178, 6533889, 1029743, 6534166, 1082185]</td>\n",
       "      <td>[13095241, 5571690, 1106286, 895332, 1036921]</td>\n",
       "      <td>[6666, 1082185, 981760, 1098066, 995242]</td>\n",
       "      <td>[1082185, 1098066, 981760, 6666, 826249]</td>\n",
       "      <td>[1082185, 981760, 1098066, 826249, 6666]</td>\n",
       "      <td>[1082185, 1098066, 6534178, 826249, 1127831]</td>\n",
       "    </tr>\n",
       "  </tbody>\n",
       "</table>\n",
       "</div>"
      ],
      "text/plain": [
       "   user_id                                             actual  \\\n",
       "0        1  [821867, 834484, 856942, 865456, 889248, 90795...   \n",
       "1        3  [835476, 851057, 872021, 878302, 879948, 90963...   \n",
       "\n",
       "                             random_recommendation  \\\n",
       "0     [820603, 1102628, 9827351, 10356075, 957233]   \n",
       "1  [6424447, 13115942, 15627461, 1096740, 6772768]   \n",
       "\n",
       "                          popular_recommendation  \\\n",
       "0  [6534178, 6533889, 1029743, 6534166, 1082185]   \n",
       "1  [6534178, 6533889, 1029743, 6534166, 1082185]   \n",
       "\n",
       "                                 weighted_random  \\\n",
       "0     [6773108, 887633, 898448, 856432, 1030868]   \n",
       "1  [13095241, 5571690, 1106286, 895332, 1036921]   \n",
       "\n",
       "                                   itemitem  \\\n",
       "0  [6666, 1082185, 981760, 1127831, 995242]   \n",
       "1  [6666, 1082185, 981760, 1098066, 995242]   \n",
       "\n",
       "                                      cosine  \\\n",
       "0  [1082185, 6666, 981760, 1127831, 1098066]   \n",
       "1   [1082185, 1098066, 981760, 6666, 826249]   \n",
       "\n",
       "                                       tfidf  \\\n",
       "0  [1082185, 981760, 1127831, 6666, 1098066]   \n",
       "1   [1082185, 981760, 1098066, 826249, 6666]   \n",
       "\n",
       "                                  own_purchases  \n",
       "0    [1082185, 995242, 1029743, 840361, 904360]  \n",
       "1  [1082185, 1098066, 6534178, 826249, 1127831]  "
      ]
     },
     "execution_count": 2,
     "metadata": {},
     "output_type": "execute_result"
    }
   ],
   "source": [
    "old_result = pd.read_csv('predictions_basic.csv', sep=';')\n",
    "old_result.head(2)"
   ]
  },
  {
   "cell_type": "code",
   "execution_count": 3,
   "metadata": {},
   "outputs": [],
   "source": [
    "from ast import literal_eval\n",
    "\n",
    "columns = old_result.columns\n",
    "for column in columns[1:]:\n",
    "    old_result[column] = old_result[column].apply(lambda row: literal_eval(row))"
   ]
  },
  {
   "cell_type": "code",
   "execution_count": 57,
   "metadata": {
    "colab": {},
    "colab_type": "code",
    "id": "_0cu0VeTC8ZD"
   },
   "outputs": [],
   "source": [
    "def precision_at_k(recommended_list, bought_list, k=5):\n",
    "    bought_list = np.array(bought_list)\n",
    "    recommended_list = np.array(recommended_list)[:k]\n",
    "    \n",
    "    flags = np.isin(bought_list, recommended_list)\n",
    "    return flags.sum() / len(recommended_list)\n",
    "\n",
    "def recall_at_k(recommended_list, bought_list, k=5):\n",
    "    bought_list = np.array(bought_list)\n",
    "    recommended_list = np.array(recommended_list)[:k]\n",
    "    \n",
    "    flags = np.isin(bought_list, recommended_list)\n",
    "    return flags.sum() / len(bought_list)\n",
    "\n",
    "def reciprocal_rank(recommended_list, bought_list, k=1):\n",
    "    recommended_list = np.array(recommended_list)\n",
    "    bought_list = np.array(bought_list)\n",
    "    \n",
    "    amount_user = len(bought_list)\n",
    "    rr = []\n",
    "    for i in np.arange(amount_user):    \n",
    "        relevant_indexes = np.nonzero(np.isin(recommended_list[i][:k], bought_list[i]))[0]\n",
    "        if len(relevant_indexes) != 0:\n",
    "            rr.append(1/(relevant_indexes[0]+1))\n",
    "    \n",
    "    if len(rr) == 0:\n",
    "        return 0\n",
    "    \n",
    "    return sum(rr)/amount_user\n",
    "\n",
    "def ndcg_at_k(recommended_list, bought_list, k=5):\n",
    "    rec = recommended_list\n",
    "    b = bought_list\n",
    "    \n",
    "    recommended_list = np.array(recommended_list)[:k]\n",
    "    bought_list = np.array(bought_list)\n",
    "    \n",
    "    flags = np.isin(recommended_list, bought_list)\n",
    "    rank_list = []\n",
    "    for i in np.arange(len(recommended_list)):\n",
    "        if i < 2:\n",
    "            rank_list.append(i+1)\n",
    "        else:\n",
    "            rank_list.append(math.log2(i+1))\n",
    "    if len(recommended_list) == 0:\n",
    "        return 0\n",
    "    dcg = sum(np.divide(flags, rank_list)) / len(recommended_list)\n",
    "\n",
    "    i_dcg = sum(np.divide(1, rank_list)) / len(recommended_list)\n",
    "#     print(i_dcg)\n",
    "    return dcg/i_dcg\n",
    "\n",
    "def ap_k(recommended_list, bought_list, k=5):\n",
    "    \n",
    "    bought_list = np.array(bought_list)\n",
    "    recommended_list = np.array(recommended_list)[:k]\n",
    "    \n",
    "    relevant_indexes = np.nonzero(np.isin(recommended_list, bought_list))[0]\n",
    "    if len(relevant_indexes) == 0:\n",
    "        return 0\n",
    "    \n",
    "    amount_relevant = len(relevant_indexes)\n",
    "            \n",
    "    sum_ = sum([precision_at_k(recommended_list, bought_list, k=index_relevant+1) for index_relevant in relevant_indexes])\n",
    "    return sum_/amount_relevant\n",
    "\n",
    "def map_k(recommended_list, bought_list, k=5):\n",
    "\n",
    "    amount_user = len(bought_list)\n",
    "    list_ap_k = [ap_k(recommended_list[i], bought_list[i], k) for i in np.arange(amount_user)]\n",
    "    \n",
    "    sum_ap_k = sum(list_ap_k)  \n",
    "    return sum_ap_k/amount_user"
   ]
  },
  {
   "cell_type": "code",
   "execution_count": 5,
   "metadata": {},
   "outputs": [
    {
     "name": "stdout",
     "output_type": "stream",
     "text": [
      "Precision at 5:\n",
      "1.0     :actual\n",
      "0.0003  :random_recommendation\n",
      "0.1552  :popular_recommendation\n",
      "0.0024  :weighted_random\n",
      "0.1368  :itemitem\n",
      "0.1329  :cosine\n",
      "0.139   :tfidf\n",
      "0.2199  :own_purchases\n"
     ]
    },
    {
     "name": "stderr",
     "output_type": "stream",
     "text": [
      "C:\\Progs\\Anaconda3\\lib\\site-packages\\ipykernel_launcher.py:6: RuntimeWarning: invalid value encountered in long_scalars\n",
      "  \n"
     ]
    }
   ],
   "source": [
    "print('Precision at 5:')\n",
    "for name_col in old_result.columns[1:]:\n",
    "    print(f\"{round(old_result.apply(lambda row: precision_at_k(row[name_col], row['actual']), axis=1).mean(),4):<8}:{name_col}\")"
   ]
  },
  {
   "cell_type": "code",
   "execution_count": 6,
   "metadata": {},
   "outputs": [
    {
     "name": "stdout",
     "output_type": "stream",
     "text": [
      "Recall at 5:\n",
      "0.271   :actual\n",
      "0.0     :random_recommendation\n",
      "0.025   :popular_recommendation\n",
      "0.0002  :weighted_random\n",
      "0.0157  :itemitem\n",
      "0.0148  :cosine\n",
      "0.0154  :tfidf\n",
      "0.0289  :own_purchases\n"
     ]
    }
   ],
   "source": [
    "print('Recall at 5:')\n",
    "for name_col in old_result.columns[1:]:\n",
    "    print(f\"{round(old_result.apply(lambda row: recall_at_k(row[name_col], row['actual']), axis=1).mean(),4):<8}:{name_col}\")"
   ]
  },
  {
   "cell_type": "code",
   "execution_count": 7,
   "metadata": {},
   "outputs": [
    {
     "name": "stdout",
     "output_type": "stream",
     "text": [
      "MRR at 5:\n",
      "1.0000  :actual\n",
      "0.0008  :random_recommendation\n",
      "0.2860  :popular_recommendation\n",
      "0.0057  :weighted_random\n",
      "0.2136  :itemitem\n",
      "0.3955  :cosine\n",
      "0.4013  :tfidf\n",
      "0.4519  :own_purchases\n"
     ]
    }
   ],
   "source": [
    "print('MRR at 5:')\n",
    "for name_col in old_result.columns[1:]:\n",
    "    print(f\"{reciprocal_rank(old_result[name_col], old_result['actual'], 5):<8.4f}:{name_col}\")"
   ]
  },
  {
   "cell_type": "code",
   "execution_count": 56,
   "metadata": {},
   "outputs": [
    {
     "name": "stdout",
     "output_type": "stream",
     "text": [
      "NDCG at 5:\n",
      "1.0000  :actual\n",
      "0.0003  :random_recommendation\n",
      "0.1596  :popular_recommendation\n",
      "0.0026  :weighted_random\n",
      "0.1161  :itemitem\n",
      "0.1647  :cosine\n",
      "0.1707  :tfidf\n",
      "0.2431  :own_purchases\n"
     ]
    }
   ],
   "source": [
    "print('NDCG at 5:')\n",
    "for name_col in old_result.columns[1:]:\n",
    "    print(f\"{old_result.apply(lambda row: ndcg_at_k(row[name_col], row['actual']), axis=1).mean():<8.4f}:{name_col}\")"
   ]
  },
  {
   "cell_type": "code",
   "execution_count": 58,
   "metadata": {},
   "outputs": [
    {
     "name": "stdout",
     "output_type": "stream",
     "text": [
      "MAP at 5:\n",
      "1.0000  :actual\n",
      "0.0008  :random_recommendation\n",
      "0.2568  :popular_recommendation\n",
      "0.0056  :weighted_random\n",
      "0.2210  :itemitem\n",
      "0.3743  :cosine\n",
      "0.3816  :tfidf\n",
      "0.4181  :own_purchases\n"
     ]
    }
   ],
   "source": [
    "print('MAP at 5:')\n",
    "for name_col in old_result.columns[1:]:\n",
    "    print(f\"{map_k(old_result[name_col], old_result['actual'], 5):<8.4f}:{name_col}\")"
   ]
  }
 ],
 "metadata": {
  "colab": {
   "name": "hw_webinar_2.ipynb",
   "provenance": []
  },
  "kernelspec": {
   "display_name": "Python 3",
   "language": "python",
   "name": "python3"
  },
  "language_info": {
   "codemirror_mode": {
    "name": "ipython",
    "version": 3
   },
   "file_extension": ".py",
   "mimetype": "text/x-python",
   "name": "python",
   "nbconvert_exporter": "python",
   "pygments_lexer": "ipython3",
   "version": "3.7.6"
  }
 },
 "nbformat": 4,
 "nbformat_minor": 1
}
